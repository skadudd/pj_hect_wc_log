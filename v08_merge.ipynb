{
 "cells": [
  {
   "cell_type": "code",
   "execution_count": 1,
   "id": "a567d348",
   "metadata": {},
   "outputs": [],
   "source": [
    "import pandas as pd\n",
    "\n",
    "# 데이터 불러오기\n",
    "data_ag = pd.read_csv('./log/log_file.tsv', delimiter='\\t', encoding='utf-8', usecols=range(7))         ## usecols=['기능','경로'] 열이름\n",
    "data_ho = pd.read_excel('./result/log_analysis_combined_no_comma_filled.xlsx', engine='openpyxl')\n",
    "\n",
    "# 데이터 병합\n",
    "data = pd.concat([data_ag, data_ho], axis=1)\n",
    "\n",
    "# 데이터 산출\n",
    "data.to_csv('./notion-log_tsv/tester.tsv', sep='\\t', index=False, encoding='utf-8-sig')"
   ]
  }
 ],
 "metadata": {
  "kernelspec": {
   "display_name": "Python 3",
   "language": "python",
   "name": "python3"
  },
  "language_info": {
   "codemirror_mode": {
    "name": "ipython",
    "version": 3
   },
   "file_extension": ".py",
   "mimetype": "text/x-python",
   "name": "python",
   "nbconvert_exporter": "python",
   "pygments_lexer": "ipython3",
   "version": "3.11.9"
  }
 },
 "nbformat": 4,
 "nbformat_minor": 5
}
